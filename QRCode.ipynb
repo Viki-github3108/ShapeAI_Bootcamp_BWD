{
  "nbformat": 4,
  "nbformat_minor": 0,
  "metadata": {
    "colab": {
      "name": "QRCode.ipynb",
      "provenance": [],
      "collapsed_sections": [],
      "authorship_tag": "ABX9TyNdoE17kCvGySucD7vCkvpp",
      "include_colab_link": true
    },
    "kernelspec": {
      "name": "python3",
      "display_name": "Python 3"
    },
    "language_info": {
      "name": "python"
    }
  },
  "cells": [
    {
      "cell_type": "markdown",
      "metadata": {
        "id": "view-in-github",
        "colab_type": "text"
      },
      "source": [
        "<a href=\"https://colab.research.google.com/github/Viki-github3108/ShapeAI_Bootcamp_BWD/blob/main/QRCode.ipynb\" target=\"_parent\"><img src=\"https://colab.research.google.com/assets/colab-badge.svg\" alt=\"Open In Colab\"/></a>"
      ]
    },
    {
      "cell_type": "code",
      "metadata": {
        "colab": {
          "base_uri": "https://localhost:8080/"
        },
        "id": "VuOL56Q-TwjJ",
        "outputId": "14434ad6-fd2b-4c80-ebf2-071370f107d2"
      },
      "source": [
        "!pip install pyqrcode"
      ],
      "execution_count": null,
      "outputs": [
        {
          "output_type": "stream",
          "text": [
            "Collecting pyqrcode\n",
            "  Downloading PyQRCode-1.2.1.zip (41 kB)\n",
            "\u001b[?25l\r\u001b[K     |███████▉                        | 10 kB 22.6 MB/s eta 0:00:01\r\u001b[K     |███████████████▋                | 20 kB 29.0 MB/s eta 0:00:01\r\u001b[K     |███████████████████████▌        | 30 kB 35.2 MB/s eta 0:00:01\r\u001b[K     |███████████████████████████████▎| 40 kB 39.4 MB/s eta 0:00:01\r\u001b[K     |████████████████████████████████| 41 kB 663 kB/s \n",
            "\u001b[?25hBuilding wheels for collected packages: pyqrcode\n",
            "  Building wheel for pyqrcode (setup.py) ... \u001b[?25l\u001b[?25hdone\n",
            "  Created wheel for pyqrcode: filename=PyQRCode-1.2.1-py3-none-any.whl size=36246 sha256=ad4611c7d9442ecead88fcf61c627eb164bcae1e6496b406422b7c8d9b337b39\n",
            "  Stored in directory: /root/.cache/pip/wheels/aa/14/ad/f09824edf35fdc5fd8acc01b60ff57f858f212a2d5c41dddd2\n",
            "Successfully built pyqrcode\n",
            "Installing collected packages: pyqrcode\n",
            "Successfully installed pyqrcode-1.2.1\n"
          ],
          "name": "stdout"
        }
      ]
    },
    {
      "cell_type": "code",
      "metadata": {
        "colab": {
          "base_uri": "https://localhost:8080/"
        },
        "id": "EAb0MNZNUzB8",
        "outputId": "4536bcd8-7cbb-440c-be46-cb74b48693ce"
      },
      "source": [
        "!pip install pypng"
      ],
      "execution_count": null,
      "outputs": [
        {
          "output_type": "stream",
          "text": [
            "Collecting pypng\n",
            "  Downloading pypng-0.0.20.tar.gz (649 kB)\n",
            "\u001b[?25l\r\u001b[K     |▌                               | 10 kB 25.5 MB/s eta 0:00:01\r\u001b[K     |█                               | 20 kB 29.4 MB/s eta 0:00:01\r\u001b[K     |█▌                              | 30 kB 29.8 MB/s eta 0:00:01\r\u001b[K     |██                              | 40 kB 30.9 MB/s eta 0:00:01\r\u001b[K     |██▌                             | 51 kB 32.7 MB/s eta 0:00:01\r\u001b[K     |███                             | 61 kB 35.5 MB/s eta 0:00:01\r\u001b[K     |███▌                            | 71 kB 34.7 MB/s eta 0:00:01\r\u001b[K     |████                            | 81 kB 36.5 MB/s eta 0:00:01\r\u001b[K     |████▌                           | 92 kB 38.6 MB/s eta 0:00:01\r\u001b[K     |█████                           | 102 kB 34.3 MB/s eta 0:00:01\r\u001b[K     |█████▌                          | 112 kB 34.3 MB/s eta 0:00:01\r\u001b[K     |██████                          | 122 kB 34.3 MB/s eta 0:00:01\r\u001b[K     |██████▋                         | 133 kB 34.3 MB/s eta 0:00:01\r\u001b[K     |███████                         | 143 kB 34.3 MB/s eta 0:00:01\r\u001b[K     |███████▋                        | 153 kB 34.3 MB/s eta 0:00:01\r\u001b[K     |████████                        | 163 kB 34.3 MB/s eta 0:00:01\r\u001b[K     |████████▋                       | 174 kB 34.3 MB/s eta 0:00:01\r\u001b[K     |█████████                       | 184 kB 34.3 MB/s eta 0:00:01\r\u001b[K     |█████████▋                      | 194 kB 34.3 MB/s eta 0:00:01\r\u001b[K     |██████████                      | 204 kB 34.3 MB/s eta 0:00:01\r\u001b[K     |██████████▋                     | 215 kB 34.3 MB/s eta 0:00:01\r\u001b[K     |███████████                     | 225 kB 34.3 MB/s eta 0:00:01\r\u001b[K     |███████████▋                    | 235 kB 34.3 MB/s eta 0:00:01\r\u001b[K     |████████████                    | 245 kB 34.3 MB/s eta 0:00:01\r\u001b[K     |████████████▋                   | 256 kB 34.3 MB/s eta 0:00:01\r\u001b[K     |█████████████▏                  | 266 kB 34.3 MB/s eta 0:00:01\r\u001b[K     |█████████████▋                  | 276 kB 34.3 MB/s eta 0:00:01\r\u001b[K     |██████████████▏                 | 286 kB 34.3 MB/s eta 0:00:01\r\u001b[K     |██████████████▋                 | 296 kB 34.3 MB/s eta 0:00:01\r\u001b[K     |███████████████▏                | 307 kB 34.3 MB/s eta 0:00:01\r\u001b[K     |███████████████▋                | 317 kB 34.3 MB/s eta 0:00:01\r\u001b[K     |████████████████▏               | 327 kB 34.3 MB/s eta 0:00:01\r\u001b[K     |████████████████▋               | 337 kB 34.3 MB/s eta 0:00:01\r\u001b[K     |█████████████████▏              | 348 kB 34.3 MB/s eta 0:00:01\r\u001b[K     |█████████████████▋              | 358 kB 34.3 MB/s eta 0:00:01\r\u001b[K     |██████████████████▏             | 368 kB 34.3 MB/s eta 0:00:01\r\u001b[K     |██████████████████▋             | 378 kB 34.3 MB/s eta 0:00:01\r\u001b[K     |███████████████████▏            | 389 kB 34.3 MB/s eta 0:00:01\r\u001b[K     |███████████████████▊            | 399 kB 34.3 MB/s eta 0:00:01\r\u001b[K     |████████████████████▏           | 409 kB 34.3 MB/s eta 0:00:01\r\u001b[K     |████████████████████▊           | 419 kB 34.3 MB/s eta 0:00:01\r\u001b[K     |█████████████████████▏          | 430 kB 34.3 MB/s eta 0:00:01\r\u001b[K     |█████████████████████▊          | 440 kB 34.3 MB/s eta 0:00:01\r\u001b[K     |██████████████████████▏         | 450 kB 34.3 MB/s eta 0:00:01\r\u001b[K     |██████████████████████▊         | 460 kB 34.3 MB/s eta 0:00:01\r\u001b[K     |███████████████████████▏        | 471 kB 34.3 MB/s eta 0:00:01\r\u001b[K     |███████████████████████▊        | 481 kB 34.3 MB/s eta 0:00:01\r\u001b[K     |████████████████████████▏       | 491 kB 34.3 MB/s eta 0:00:01\r\u001b[K     |████████████████████████▊       | 501 kB 34.3 MB/s eta 0:00:01\r\u001b[K     |█████████████████████████▎      | 512 kB 34.3 MB/s eta 0:00:01\r\u001b[K     |█████████████████████████▊      | 522 kB 34.3 MB/s eta 0:00:01\r\u001b[K     |██████████████████████████▎     | 532 kB 34.3 MB/s eta 0:00:01\r\u001b[K     |██████████████████████████▊     | 542 kB 34.3 MB/s eta 0:00:01\r\u001b[K     |███████████████████████████▎    | 552 kB 34.3 MB/s eta 0:00:01\r\u001b[K     |███████████████████████████▊    | 563 kB 34.3 MB/s eta 0:00:01\r\u001b[K     |████████████████████████████▎   | 573 kB 34.3 MB/s eta 0:00:01\r\u001b[K     |████████████████████████████▊   | 583 kB 34.3 MB/s eta 0:00:01\r\u001b[K     |█████████████████████████████▎  | 593 kB 34.3 MB/s eta 0:00:01\r\u001b[K     |█████████████████████████████▊  | 604 kB 34.3 MB/s eta 0:00:01\r\u001b[K     |██████████████████████████████▎ | 614 kB 34.3 MB/s eta 0:00:01\r\u001b[K     |██████████████████████████████▊ | 624 kB 34.3 MB/s eta 0:00:01\r\u001b[K     |███████████████████████████████▎| 634 kB 34.3 MB/s eta 0:00:01\r\u001b[K     |███████████████████████████████▉| 645 kB 34.3 MB/s eta 0:00:01\r\u001b[K     |████████████████████████████████| 649 kB 34.3 MB/s \n",
            "\u001b[?25hBuilding wheels for collected packages: pypng\n",
            "  Building wheel for pypng (setup.py) ... \u001b[?25l\u001b[?25hdone\n",
            "  Created wheel for pypng: filename=pypng-0.0.20-py3-none-any.whl size=67177 sha256=def461152e2c7227f7ce7d2c62ef64a839d2e05891630583f0ed59fe71fc2e38\n",
            "  Stored in directory: /root/.cache/pip/wheels/54/64/43/dfd10cf95dc1687dc5350e861321ecd9a5d76b7c3d96fa1dc6\n",
            "Successfully built pypng\n",
            "Installing collected packages: pypng\n",
            "Successfully installed pypng-0.0.20\n"
          ],
          "name": "stdout"
        }
      ]
    },
    {
      "cell_type": "code",
      "metadata": {
        "id": "YnmGzB3wU5fM"
      },
      "source": [
        "import pyqrcode\n",
        "import png\n",
        "from pyqrcode import QRCode \n",
        "\n",
        "s = \"linkedin.com/in/vignesh-m-b0716a206\"\n",
        "\n",
        "url = pyqrcode.create(s)\n",
        "\n",
        "url.svg(\"myqrforlinkedin.svg\", scale = 8)\n",
        "\n",
        "url.png('myqrforlinkedin.png', scale = 6)"
      ],
      "execution_count": null,
      "outputs": []
    }
  ]
}